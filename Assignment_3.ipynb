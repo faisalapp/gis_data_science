{
 "cells": [
  {
   "cell_type": "markdown",
   "metadata": {
    "id": "G_4Uq9AcI7KL"
   },
   "source": [
    "# Assignment 3"
   ]
  },
  {
   "cell_type": "markdown",
   "metadata": {
    "id": "fr_EGCu-JMed"
   },
   "source": [
    "Please do not change, delete or edit any cells. Write your code in between designated lines."
   ]
  },
  {
   "cell_type": "markdown",
   "metadata": {
    "id": "L69__o06JnIg"
   },
   "source": [
    "## Question 1 (15 points)"
   ]
  },
  {
   "cell_type": "code",
   "execution_count": 1,
   "metadata": {
    "id": "bVAI5ISdJOWR"
   },
   "outputs": [
    {
     "name": "stdout",
     "output_type": "stream",
     "text": [
      "{'Peas': 55, 'Canola': 66, 'Oat': 65}\n"
     ]
    }
   ],
   "source": [
    "# Create a dictionary named dict1 then add key and values.\n",
    "# When you print output of dict1 will be shown as {'Peas': 55, 'Canola': 66, 'Oat': 65}.\n",
    "\n",
    "## Your code here - down ##\n",
    "\n",
    "dic1 = {}\n",
    "dic1[\"Peas\"] = 55\n",
    "dic1[\"Canola\"] = 66\n",
    "dic1[\"Oat\"] = 65\n",
    "\n",
    "print(dic1)\n",
    "\n",
    "\n",
    "## Your code here - up ##"
   ]
  },
  {
   "cell_type": "code",
   "execution_count": 2,
   "metadata": {
    "id": "962MZgyEKSBw"
   },
   "outputs": [
    {
     "name": "stdout",
     "output_type": "stream",
     "text": [
      "{'Peas': 66, 'Canola': 66, 'Oat': 65}\n"
     ]
    }
   ],
   "source": [
    "# In this cell you need to change the assigned value of Peas to 66 and print dict1 again.\n",
    "\n",
    "## Your code here - down ##\n",
    "\n",
    "dic1[\"Peas\"] = 66\n",
    "print(dic1)\n",
    "\n",
    "## Your code here - up ##"
   ]
  },
  {
   "cell_type": "code",
   "execution_count": 6,
   "metadata": {
    "id": "ZYkqG-uxKyMe"
   },
   "outputs": [
    {
     "name": "stdout",
     "output_type": "stream",
     "text": [
      "Peas\n",
      "66\n",
      "Canola\n",
      "66\n",
      "Oat\n",
      "65\n"
     ]
    }
   ],
   "source": [
    "# Now use For Loop and print values and key inside dict1. Your output will look like:\n",
    "# Peas\n",
    "# 66\n",
    "# and so on.\n",
    "\n",
    "## Your code here - down ##\n",
    "\n",
    "for key, value in dic1.items():\n",
    "    print(key)\n",
    "    print(value)\n",
    "\n",
    "## Your code here - up ##"
   ]
  },
  {
   "cell_type": "markdown",
   "metadata": {
    "id": "e4Ugu5vNKohg"
   },
   "source": [
    "## Question 2 (30 points)"
   ]
  },
  {
   "cell_type": "code",
   "execution_count": 18,
   "metadata": {
    "id": "1MeSpsIaMFrn"
   },
   "outputs": [
    {
     "name": "stdout",
     "output_type": "stream",
     "text": [
      "[4, 49, 81, 16]\n"
     ]
    }
   ],
   "source": [
    "ls = [2,7,9, 4]\n",
    "\n",
    "# Method 1\n",
    "# Ceate a list that consist of square of ls values.\n",
    "\n",
    "## Your code here - down ##\n",
    "\n",
    "ls_sqr_1 = []\n",
    "\n",
    "for item in ls:\n",
    "    ls_sqr_1.append(item ** 2)\n",
    "    \n",
    "print(ls_sqr_1)\n",
    "\n",
    "## Your code here - up ##"
   ]
  },
  {
   "cell_type": "code",
   "execution_count": 20,
   "metadata": {
    "id": "41u-FWnoMpfq"
   },
   "outputs": [
    {
     "name": "stdout",
     "output_type": "stream",
     "text": [
      "[4, 49, 81, 16]\n"
     ]
    }
   ],
   "source": [
    "# Method 2\n",
    "\n",
    "## Your code here - down ##\n",
    "\n",
    "ls_sqr_2 = []\n",
    "\n",
    "[ ls_sqr_2.append(item ** 2) for item in ls]\n",
    "\n",
    "print(ls_sqr_2)\n",
    "\n",
    "\n",
    "## Your code here - up ##"
   ]
  },
  {
   "cell_type": "markdown",
   "metadata": {
    "id": "eeYzaBCFMwgS"
   },
   "source": [
    "## Question 3 (55 points)"
   ]
  },
  {
   "cell_type": "code",
   "execution_count": 28,
   "metadata": {
    "id": "OXhs3bGZM-Oj"
   },
   "outputs": [
    {
     "data": {
      "text/plain": [
       "(2, 3)"
      ]
     },
     "execution_count": 28,
     "metadata": {},
     "output_type": "execute_result"
    }
   ],
   "source": [
    "import numpy as np\n",
    "\n",
    "ar_1 = np.array([[3, 4, 5],\n",
    "                 [3, 4, 5]])\n",
    "# What is shape of the array?\n",
    "\n",
    "## Your code here - down ##\n",
    "\n",
    "ar_1.shape\n",
    "\n",
    "## Your code here - up ##"
   ]
  },
  {
   "cell_type": "code",
   "execution_count": 49,
   "metadata": {
    "id": "oOm_o0nCNWGD"
   },
   "outputs": [
    {
     "data": {
      "text/plain": [
       "array([3, 4, 5])"
      ]
     },
     "execution_count": 49,
     "metadata": {},
     "output_type": "execute_result"
    }
   ],
   "source": [
    "ar_2 = np.array([[3, 4, 5],\n",
    "         [8, 4, 1]])\n",
    "# Print first row of ar_2\n",
    "\n",
    "## Your code here - down ##\n",
    "\n",
    "ar_2[0]\n",
    "\n",
    "## Your code here - up ##"
   ]
  },
  {
   "cell_type": "code",
   "execution_count": 51,
   "metadata": {
    "id": "y9bfDeDQOBAn"
   },
   "outputs": [
    {
     "data": {
      "text/plain": [
       "1"
      ]
     },
     "execution_count": 51,
     "metadata": {},
     "output_type": "execute_result"
    }
   ],
   "source": [
    "# Write a code that will print 1 in ar_2.\n",
    "\n",
    "## Your code here - down ##\n",
    "\n",
    "ar_2[1,2]\n",
    "\n",
    "## Your code here - up ##"
   ]
  },
  {
   "cell_type": "code",
   "execution_count": 53,
   "metadata": {
    "id": "qSs9eeJZOPSs"
   },
   "outputs": [
    {
     "data": {
      "text/plain": [
       "4.166666666666667"
      ]
     },
     "execution_count": 53,
     "metadata": {},
     "output_type": "execute_result"
    }
   ],
   "source": [
    "# Print entire mean of ar_2\n",
    "\n",
    "## Your code here - down ##\n",
    "\n",
    "np.mean(ar_2)\n",
    "\n",
    "## Your code here - up ##"
   ]
  },
  {
   "cell_type": "code",
   "execution_count": 54,
   "metadata": {
    "id": "eoWFWqzLOiuP"
   },
   "outputs": [
    {
     "data": {
      "text/plain": [
       "array([5.5, 4. , 3. ])"
      ]
     },
     "execution_count": 54,
     "metadata": {},
     "output_type": "execute_result"
    }
   ],
   "source": [
    "# Print each columns' mean\n",
    "\n",
    "## Your code here - down ##\n",
    "\n",
    "np.mean(ar_2, axis=0)\n",
    "\n",
    "## Your code here - up ##"
   ]
  },
  {
   "cell_type": "code",
   "execution_count": 57,
   "metadata": {
    "id": "z2JxGSG1OyR1"
   },
   "outputs": [
    {
     "data": {
      "text/plain": [
       "2.1147629234082532"
      ]
     },
     "execution_count": 57,
     "metadata": {},
     "output_type": "execute_result"
    }
   ],
   "source": [
    "# Print entire standard deviation  of ar_2\n",
    "\n",
    "## Your code here - down ##\n",
    "\n",
    "np.std(ar_2)\n",
    "## Your code here - up ##\n"
   ]
  },
  {
   "cell_type": "code",
   "execution_count": 62,
   "metadata": {
    "id": "MxSBTiL4O4-W"
   },
   "outputs": [
    {
     "data": {
      "text/plain": [
       "array([0.81649658, 2.86744176])"
      ]
     },
     "execution_count": 62,
     "metadata": {},
     "output_type": "execute_result"
    }
   ],
   "source": [
    "# Print each rows' standard deviation.\n",
    "\n",
    "## Your code here - down ##\n",
    "\n",
    "np.std(ar_2, axis=1)\n",
    "\n",
    "## Your code here - up ##"
   ]
  },
  {
   "cell_type": "code",
   "execution_count": 61,
   "metadata": {
    "id": "XF4u_fPtPBAX"
   },
   "outputs": [
    {
     "name": "stdout",
     "output_type": "stream",
     "text": [
      "2.1147629234082532\n",
      "4.0\n",
      "1.8852370765917468\n"
     ]
    }
   ],
   "source": [
    "# Find the difference between mean and median of entire ar_2.\n",
    "\n",
    "## Your code here - down ##\n",
    "\n",
    "mean = np.std(ar_2)\n",
    "median = np.median(ar_2)\n",
    "\n",
    "diff = median - mean\n",
    "print(mean)\n",
    "print(median)\n",
    "print(diff)\n",
    "\n",
    "## Your code here - up ##"
   ]
  },
  {
   "cell_type": "markdown",
   "metadata": {
    "id": "ziac1rfuPp8H"
   },
   "source": [
    "Are mean and median same? If they are different, explain what does that mean.\n",
    "\n",
    "Please explain below in this cell only.\n",
    "\n",
    "Mean and Median are two different things. Mean is the average of all numbers (sum of numbers divided by number count) while Median is calculated by sorting numbers then picking number in the middle (if number count is odd) or average of two numbers in the middle (if number count is even) \n"
   ]
  }
 ],
 "metadata": {
  "colab": {
   "provenance": []
  },
  "kernelspec": {
   "display_name": "Python 3 (ipykernel)",
   "language": "python",
   "name": "python3"
  },
  "language_info": {
   "codemirror_mode": {
    "name": "ipython",
    "version": 3
   },
   "file_extension": ".py",
   "mimetype": "text/x-python",
   "name": "python",
   "nbconvert_exporter": "python",
   "pygments_lexer": "ipython3",
   "version": "3.9.13"
  }
 },
 "nbformat": 4,
 "nbformat_minor": 1
}
