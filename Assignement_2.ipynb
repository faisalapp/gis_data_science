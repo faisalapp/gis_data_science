{
 "cells": [
  {
   "cell_type": "markdown",
   "metadata": {
    "id": "pf5SXa1XeBkI"
   },
   "source": [
    "# Assignement 2\n"
   ]
  },
  {
   "cell_type": "markdown",
   "metadata": {
    "id": "txLDhiheeJtw"
   },
   "source": [
    "Please do not change, delete or edit any cells. Write your code in between designated lines.\n",
    "\n"
   ]
  },
  {
   "cell_type": "markdown",
   "metadata": {
    "id": "pVXIH2TLfXYF"
   },
   "source": [
    "## Question 1 (10 points)"
   ]
  },
  {
   "cell_type": "code",
   "execution_count": 1,
   "metadata": {
    "id": "VS-FTxUHfclH"
   },
   "outputs": [
    {
     "name": "stdout",
     "output_type": "stream",
     "text": [
      "A\n",
      "g\n",
      "r\n",
      "i\n",
      "c\n",
      "u\n",
      "l\n",
      "t\n",
      "u\n",
      "r\n",
      "e\n"
     ]
    }
   ],
   "source": [
    "# Can your print the letters of Agriculture by using for loops. Your output will look like this:\n",
    "# A\n",
    "# g\n",
    "# r\n",
    "# i\n",
    "# c\n",
    "# u\n",
    "# l\n",
    "# t\n",
    "# u\n",
    "# r\n",
    "# e\n",
    "\n",
    "## Your code here - down ##\n",
    "\n",
    "test_data = \"Agriculture\"\n",
    "\n",
    "for char in test_data:\n",
    "    print(char)\n",
    "\n",
    "\n",
    "\n",
    "## Your code here - up ##\n"
   ]
  },
  {
   "cell_type": "markdown",
   "metadata": {
    "id": "rTT_VIPMefpk"
   },
   "source": [
    "## Question 2 (40 Points)"
   ]
  },
  {
   "cell_type": "code",
   "execution_count": 2,
   "metadata": {
    "id": "dQp85EhveEWB"
   },
   "outputs": [
    {
     "name": "stdout",
     "output_type": "stream",
     "text": [
      "1275\n"
     ]
    }
   ],
   "source": [
    "# Find the sum of numbers from 1 to 50(including) by using for loops.\n",
    "\n",
    "## Your code here - down ##\n",
    "\n",
    "sum = 0\n",
    "\n",
    "for num in range(1,51):\n",
    "    sum = sum + num    \n",
    "print(sum)\n",
    "\n",
    "## Your code here - up ##"
   ]
  },
  {
   "cell_type": "markdown",
   "metadata": {
    "id": "gijHHMnjgZPy"
   },
   "source": [
    "## Question 3 (50 points)"
   ]
  },
  {
   "cell_type": "code",
   "execution_count": 4,
   "metadata": {
    "id": "IXBo2RM2gYPR"
   },
   "outputs": [
    {
     "name": "stdout",
     "output_type": "stream",
     "text": [
      "650\n"
     ]
    }
   ],
   "source": [
    "# Now let's find sum of even and odd numbers from 1 to 50 (including). Are the results same?\n",
    "\n",
    "# Sum of even  numbers\n",
    "\n",
    "## Your code here - down ##\n",
    "\n",
    "sum_even = 0\n",
    "\n",
    "for num in range(1,51):\n",
    "    if num % 2 == 0:\n",
    "        sum_even = sum_even + num\n",
    "\n",
    "print(sum_even)\n",
    "\n",
    "## Your code here - up ##"
   ]
  },
  {
   "cell_type": "code",
   "execution_count": 6,
   "metadata": {
    "id": "xQh-bx6ohCe-"
   },
   "outputs": [
    {
     "name": "stdout",
     "output_type": "stream",
     "text": [
      "625\n"
     ]
    }
   ],
   "source": [
    "# Sum of odd numbers\n",
    "\n",
    "## Your code here - down ##\n",
    "\n",
    "sum_odd = 0\n",
    "\n",
    "for num in range(1,51):\n",
    "    if num % 2 != 0:\n",
    "        sum_odd = sum_odd + num\n",
    "\n",
    "print(sum_odd)\n",
    "\n",
    "## Your code here - up ##"
   ]
  },
  {
   "cell_type": "code",
   "execution_count": 7,
   "metadata": {
    "id": "OeIXVOYThLbA"
   },
   "outputs": [],
   "source": [
    "# In this cell explain the difference.\n",
    "\n",
    "# If the number is divisible by 2, it will be even number else odd number\n"
   ]
  }
 ],
 "metadata": {
  "colab": {
   "provenance": []
  },
  "kernelspec": {
   "display_name": "Python 3 (ipykernel)",
   "language": "python",
   "name": "python3"
  },
  "language_info": {
   "codemirror_mode": {
    "name": "ipython",
    "version": 3
   },
   "file_extension": ".py",
   "mimetype": "text/x-python",
   "name": "python",
   "nbconvert_exporter": "python",
   "pygments_lexer": "ipython3",
   "version": "3.9.13"
  }
 },
 "nbformat": 4,
 "nbformat_minor": 1
}
