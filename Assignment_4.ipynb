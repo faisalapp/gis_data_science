{
  "cells": [
    {
      "cell_type": "markdown",
      "metadata": {
        "id": "xRFQJjmAgPPv"
      },
      "source": [
        "# Assignment 4"
      ]
    },
    {
      "cell_type": "markdown",
      "metadata": {
        "id": "eLY9HOokgoNX"
      },
      "source": [
        "\n",
        "Please do not change, delete or edit any cells. Write your code in between designated lines."
      ]
    },
    {
      "cell_type": "markdown",
      "metadata": {
        "id": "0iiZnyE_hHm4"
      },
      "source": [
        "## Question 1 (25 points)"
      ]
    },
    {
      "cell_type": "code",
      "execution_count": 2,
      "metadata": {
        "id": "jwfycLiWgVa0"
      },
      "outputs": [],
      "source": [
        "# Please go to Palette_training_4 GitHub repo and \n",
        "# 1. Read Sask_RM_data.csv.\n",
        "# 2. Rename column namse Crop Year, Canola - bu/ac, Spring Wheat - bu/ac with\n",
        "# Year, Canola, SpringWheat respectively.\n",
        "\n",
        "import pandas as pd # Library for data handling\n",
        "import numpy as np # matrix operations\n",
        "import geopandas as gpd\n",
        "import matplotlib.pyplot as plt\n",
        "import seaborn as sb\n",
        "# plt.rcParams['figure.figsize'] = (20, 12)"
      ]
    },
    {
      "cell_type": "code",
      "execution_count": 31,
      "metadata": {
        "id": "1SX-x2rqkvbV"
      },
      "outputs": [
        {
          "data": {
            "text/html": [
              "<div>\n",
              "<style scoped>\n",
              "    .dataframe tbody tr th:only-of-type {\n",
              "        vertical-align: middle;\n",
              "    }\n",
              "\n",
              "    .dataframe tbody tr th {\n",
              "        vertical-align: top;\n",
              "    }\n",
              "\n",
              "    .dataframe thead th {\n",
              "        text-align: right;\n",
              "    }\n",
              "</style>\n",
              "<table border=\"1\" class=\"dataframe\">\n",
              "  <thead>\n",
              "    <tr style=\"text-align: right;\">\n",
              "      <th></th>\n",
              "      <th>Crop Year</th>\n",
              "      <th>RM</th>\n",
              "      <th>Canola - bu/ac</th>\n",
              "      <th>Spring Wheat - bu/ac</th>\n",
              "    </tr>\n",
              "  </thead>\n",
              "  <tbody>\n",
              "    <tr>\n",
              "      <th>0</th>\n",
              "      <td>2012</td>\n",
              "      <td>1</td>\n",
              "      <td>22.3</td>\n",
              "      <td>36.2</td>\n",
              "    </tr>\n",
              "    <tr>\n",
              "      <th>1</th>\n",
              "      <td>2012</td>\n",
              "      <td>2</td>\n",
              "      <td>28.6</td>\n",
              "      <td>37.2</td>\n",
              "    </tr>\n",
              "    <tr>\n",
              "      <th>2</th>\n",
              "      <td>2012</td>\n",
              "      <td>3</td>\n",
              "      <td>25.1</td>\n",
              "      <td>39.4</td>\n",
              "    </tr>\n",
              "    <tr>\n",
              "      <th>3</th>\n",
              "      <td>2012</td>\n",
              "      <td>4</td>\n",
              "      <td>21.6</td>\n",
              "      <td>31.6</td>\n",
              "    </tr>\n",
              "    <tr>\n",
              "      <th>4</th>\n",
              "      <td>2012</td>\n",
              "      <td>5</td>\n",
              "      <td>26.8</td>\n",
              "      <td>29.0</td>\n",
              "    </tr>\n",
              "  </tbody>\n",
              "</table>\n",
              "</div>"
            ],
            "text/plain": [
              "   Crop Year  RM  Canola - bu/ac  Spring Wheat - bu/ac\n",
              "0       2012   1            22.3                  36.2\n",
              "1       2012   2            28.6                  37.2\n",
              "2       2012   3            25.1                  39.4\n",
              "3       2012   4            21.6                  31.6\n",
              "4       2012   5            26.8                  29.0"
            ]
          },
          "execution_count": 31,
          "metadata": {},
          "output_type": "execute_result"
        }
      ],
      "source": [
        "\n",
        "\n",
        "# 1. Read csv file by using pandas \n",
        "\n",
        "## Your code here - down ##\n",
        "#df = pd.read_csv('https://github.com/faisalapp/Palette_training_4.git/Sask_RM_data.csv')\n",
        "#df = pd.read_csv('https://github.com/faisalapp/Palette_training_4/blob/main/Sask_RM_Data.csv')\n",
        "#df = pd.read_csv('C:\\Muhammad_Faisal\\Misc\\Palette_training_4-main\\Sask_RM_Data.csv')\n",
        "df = pd.read_csv('https://raw.githubusercontent.com/faisalapp/Palette_training_4/main/Sask_RM_Data.csv')\n",
        "\n",
        "df.head() # checking purpose\n",
        "## Your code here - up ##"
      ]
    },
    {
      "cell_type": "code",
      "execution_count": 4,
      "metadata": {
        "id": "cdGqn-qvksVg"
      },
      "outputs": [],
      "source": [
        "# 2. Rename columns\n",
        "\n",
        "## Your code here - down ##\n",
        "\n",
        "df.rename(columns=\n",
        "{\n",
        "    'Crop Year': 'Year',\n",
        "    'Canola - bu/ac': 'Canola',\n",
        "    'Spring Wheat - bu/ac': 'SpringWheat',\n",
        "\n",
        "}, inplace=True)\n",
        "\n",
        "## df.head() # checking purpose\n",
        "\n",
        "## Your code here - up ##"
      ]
    },
    {
      "cell_type": "markdown",
      "metadata": {
        "id": "CVL1VhWNj06v"
      },
      "source": [
        "Question 2 (65 points)"
      ]
    },
    {
      "cell_type": "code",
      "execution_count": 5,
      "metadata": {
        "id": "obXacM3uiCcE"
      },
      "outputs": [
        {
          "name": "stdout",
          "output_type": "stream",
          "text": [
            "Year            0\n",
            "RM              0\n",
            "Canola         45\n",
            "SpringWheat    51\n",
            "dtype: int64\n"
          ]
        }
      ],
      "source": [
        "# 1. How many missing values in each column? \n",
        "\n",
        "## Your code here - down ##\n",
        "missing_values = df.isna()\n",
        "missing_values_count = missing_values.sum()\n",
        "print(missing_values_count)\n",
        "## Your code here - up ##"
      ]
    },
    {
      "cell_type": "code",
      "execution_count": 6,
      "metadata": {
        "id": "wNZcRd9bkhTS"
      },
      "outputs": [
        {
          "name": "stdout",
          "output_type": "stream",
          "text": [
            "Unique values of RMs are shown as below \n",
            " [  1   2   3   4   5   6   7   8   9  10  11  12  17  18  19  31  32  33\n",
            "  34  35  36  37  38  39  40  42  43  44  45  46  49  51  61  63  64  65\n",
            "  66  67  68  69  70  71  72  73  74  75  76  77  78  79  91  92  93  94\n",
            "  95  96  97  98  99 100 101 102 103 104 105 106 107 108 109 110 111 121\n",
            " 122 123 124 125 126 127 128 129 130 131 132 133 134 135 136 137 138 139\n",
            " 141 142 151 152 153 154 155 156 157 158 159 160 161 162 163 164 165 166\n",
            " 167 168 169 171 181 183 184 185 186 187 189 190 191 193 194 211 213 214\n",
            " 215 216 217 218 219 220 221 222 223 224 225 226 228 229 230 231 232 241\n",
            " 243 244 245 246 247 248 250 251 252 253 254 255 256 257 259 260 261 271\n",
            " 273 274 275 276 277 279 280 281 282 283 284 285 286 287 288 290 292 301\n",
            " 303 304 305 307 308 309 310 312 313 314 315 316 317 318 319 320 321 322\n",
            " 331 333 334 335 336 337 338 339 340 341 342 343 344 345 346 347 349 350\n",
            " 351 352 366 367 368 369 370 371 372 373 376 377 378 379 380 381 382 394\n",
            " 395 397 398 399 400 401 402 403 404 405 406 409 410 411 426 427 428 429\n",
            " 430 431 434 435 436 437 438 439 440 442 456 457 458 459 460 461 463 464\n",
            " 466 467 468 469 470 471 472 486 487 488 490 491 493 494 496 497 498 499\n",
            " 501 502 520 555 561 588 622]\n"
          ]
        }
      ],
      "source": [
        "# 2. Find unique values of RMs(Rural Municipalities).\n",
        "\n",
        "## Your code here - down ##\n",
        "unique_values = df['RM'].unique() # unique values\n",
        "print(\"Unique values of RMs are shown as below \\n\",unique_values)\n",
        "\n",
        "## Your code here - up ##"
      ]
    },
    {
      "cell_type": "code",
      "execution_count": 7,
      "metadata": {
        "id": "X-7AiMCZkiji"
      },
      "outputs": [
        {
          "data": {
            "text/html": [
              "<div>\n",
              "<style scoped>\n",
              "    .dataframe tbody tr th:only-of-type {\n",
              "        vertical-align: middle;\n",
              "    }\n",
              "\n",
              "    .dataframe tbody tr th {\n",
              "        vertical-align: top;\n",
              "    }\n",
              "\n",
              "    .dataframe thead th {\n",
              "        text-align: right;\n",
              "    }\n",
              "</style>\n",
              "<table border=\"1\" class=\"dataframe\">\n",
              "  <thead>\n",
              "    <tr style=\"text-align: right;\">\n",
              "      <th></th>\n",
              "      <th>RM</th>\n",
              "      <th>Canola</th>\n",
              "    </tr>\n",
              "  </thead>\n",
              "  <tbody>\n",
              "    <tr>\n",
              "      <th>0</th>\n",
              "      <td>271</td>\n",
              "      <td>45.284</td>\n",
              "    </tr>\n",
              "    <tr>\n",
              "      <th>1</th>\n",
              "      <td>470</td>\n",
              "      <td>45.018</td>\n",
              "    </tr>\n",
              "    <tr>\n",
              "      <th>2</th>\n",
              "      <td>439</td>\n",
              "      <td>44.116</td>\n",
              "    </tr>\n",
              "    <tr>\n",
              "      <th>3</th>\n",
              "      <td>303</td>\n",
              "      <td>43.624</td>\n",
              "    </tr>\n",
              "    <tr>\n",
              "      <th>4</th>\n",
              "      <td>338</td>\n",
              "      <td>42.881</td>\n",
              "    </tr>\n",
              "    <tr>\n",
              "      <th>5</th>\n",
              "      <td>493</td>\n",
              "      <td>42.819</td>\n",
              "    </tr>\n",
              "    <tr>\n",
              "      <th>6</th>\n",
              "      <td>440</td>\n",
              "      <td>42.747</td>\n",
              "    </tr>\n",
              "    <tr>\n",
              "      <th>7</th>\n",
              "      <td>464</td>\n",
              "      <td>42.515</td>\n",
              "    </tr>\n",
              "    <tr>\n",
              "      <th>8</th>\n",
              "      <td>410</td>\n",
              "      <td>42.223</td>\n",
              "    </tr>\n",
              "    <tr>\n",
              "      <th>9</th>\n",
              "      <td>434</td>\n",
              "      <td>41.868</td>\n",
              "    </tr>\n",
              "  </tbody>\n",
              "</table>\n",
              "</div>"
            ],
            "text/plain": [
              "    RM  Canola\n",
              "0  271  45.284\n",
              "1  470  45.018\n",
              "2  439  44.116\n",
              "3  303  43.624\n",
              "4  338  42.881\n",
              "5  493  42.819\n",
              "6  440  42.747\n",
              "7  464  42.515\n",
              "8  410  42.223\n",
              "9  434  41.868"
            ]
          },
          "execution_count": 7,
          "metadata": {},
          "output_type": "execute_result"
        }
      ],
      "source": [
        "# 3. Use groupby() and find top 10 RMs in terms of average Canola yield through 10 years.\n",
        "\n",
        "## Your code here - down ##\n",
        "\n",
        "df.groupby('RM')['Canola'].mean()\\\n",
        "    .sort_values(ascending = False).reset_index().head(10)\n",
        "        \n",
        "## Your code here - up ##"
      ]
    },
    {
      "cell_type": "code",
      "execution_count": 8,
      "metadata": {
        "id": "JqIEftfSmJha"
      },
      "outputs": [
        {
          "data": {
            "text/html": [
              "<div>\n",
              "<style scoped>\n",
              "    .dataframe tbody tr th:only-of-type {\n",
              "        vertical-align: middle;\n",
              "    }\n",
              "\n",
              "    .dataframe tbody tr th {\n",
              "        vertical-align: top;\n",
              "    }\n",
              "\n",
              "    .dataframe thead th {\n",
              "        text-align: right;\n",
              "    }\n",
              "</style>\n",
              "<table border=\"1\" class=\"dataframe\">\n",
              "  <thead>\n",
              "    <tr style=\"text-align: right;\">\n",
              "      <th></th>\n",
              "      <th>RM</th>\n",
              "      <th>SpringWheat</th>\n",
              "    </tr>\n",
              "  </thead>\n",
              "  <tbody>\n",
              "    <tr>\n",
              "      <th>0</th>\n",
              "      <td>44</td>\n",
              "      <td>20.339000</td>\n",
              "    </tr>\n",
              "    <tr>\n",
              "      <th>1</th>\n",
              "      <td>10</td>\n",
              "      <td>21.168571</td>\n",
              "    </tr>\n",
              "    <tr>\n",
              "      <th>2</th>\n",
              "      <td>69</td>\n",
              "      <td>22.418000</td>\n",
              "    </tr>\n",
              "    <tr>\n",
              "      <th>3</th>\n",
              "      <td>45</td>\n",
              "      <td>22.920000</td>\n",
              "    </tr>\n",
              "    <tr>\n",
              "      <th>4</th>\n",
              "      <td>40</td>\n",
              "      <td>23.265000</td>\n",
              "    </tr>\n",
              "    <tr>\n",
              "      <th>5</th>\n",
              "      <td>19</td>\n",
              "      <td>24.163000</td>\n",
              "    </tr>\n",
              "    <tr>\n",
              "      <th>6</th>\n",
              "      <td>51</td>\n",
              "      <td>24.683000</td>\n",
              "    </tr>\n",
              "    <tr>\n",
              "      <th>7</th>\n",
              "      <td>101</td>\n",
              "      <td>24.993000</td>\n",
              "    </tr>\n",
              "    <tr>\n",
              "      <th>8</th>\n",
              "      <td>9</td>\n",
              "      <td>25.364000</td>\n",
              "    </tr>\n",
              "    <tr>\n",
              "      <th>9</th>\n",
              "      <td>70</td>\n",
              "      <td>25.807000</td>\n",
              "    </tr>\n",
              "  </tbody>\n",
              "</table>\n",
              "</div>"
            ],
            "text/plain": [
              "    RM  SpringWheat\n",
              "0   44    20.339000\n",
              "1   10    21.168571\n",
              "2   69    22.418000\n",
              "3   45    22.920000\n",
              "4   40    23.265000\n",
              "5   19    24.163000\n",
              "6   51    24.683000\n",
              "7  101    24.993000\n",
              "8    9    25.364000\n",
              "9   70    25.807000"
            ]
          },
          "execution_count": 8,
          "metadata": {},
          "output_type": "execute_result"
        }
      ],
      "source": [
        "# 4. Use groupby() function and find worst 10 RMs in terms of average Spring Wheat through 10 years.\n",
        "\n",
        "## Your code here - down ##\n",
        "\n",
        "df.groupby('RM')['SpringWheat'].mean()\\\n",
        "    .sort_values().reset_index().head(10)\n",
        "\n",
        "## Your code here - up ##"
      ]
    },
    {
      "cell_type": "code",
      "execution_count": 9,
      "metadata": {
        "id": "_u735AcFmyKX"
      },
      "outputs": [
        {
          "data": {
            "text/html": [
              "<div>\n",
              "<style scoped>\n",
              "    .dataframe tbody tr th:only-of-type {\n",
              "        vertical-align: middle;\n",
              "    }\n",
              "\n",
              "    .dataframe tbody tr th {\n",
              "        vertical-align: top;\n",
              "    }\n",
              "\n",
              "    .dataframe thead th {\n",
              "        text-align: right;\n",
              "    }\n",
              "</style>\n",
              "<table border=\"1\" class=\"dataframe\">\n",
              "  <thead>\n",
              "    <tr style=\"text-align: right;\">\n",
              "      <th></th>\n",
              "      <th>Year</th>\n",
              "      <th>SpringWheat</th>\n",
              "    </tr>\n",
              "  </thead>\n",
              "  <tbody>\n",
              "    <tr>\n",
              "      <th>0</th>\n",
              "      <td>2020</td>\n",
              "      <td>49.443357</td>\n",
              "    </tr>\n",
              "    <tr>\n",
              "      <th>1</th>\n",
              "      <td>2019</td>\n",
              "      <td>49.227431</td>\n",
              "    </tr>\n",
              "    <tr>\n",
              "      <th>2</th>\n",
              "      <td>2013</td>\n",
              "      <td>47.431525</td>\n",
              "    </tr>\n",
              "  </tbody>\n",
              "</table>\n",
              "</div>"
            ],
            "text/plain": [
              "   Year  SpringWheat\n",
              "0  2020    49.443357\n",
              "1  2019    49.227431\n",
              "2  2013    47.431525"
            ]
          },
          "execution_count": 9,
          "metadata": {},
          "output_type": "execute_result"
        }
      ],
      "source": [
        "# 4. Use groupby() function and find worst 3 best years in terms of average Spring Wheat.\n",
        "\n",
        "## Your code here - down ##\n",
        "\n",
        "df.groupby('Year')['SpringWheat'].mean()\\\n",
        "    .sort_values(ascending = False).reset_index().head(3)\n",
        "\n",
        "## Your code here - up ##"
      ]
    },
    {
      "cell_type": "code",
      "execution_count": 10,
      "metadata": {
        "id": "VIeb0E0SmSYf"
      },
      "outputs": [
        {
          "data": {
            "text/html": [
              "<div>\n",
              "<style scoped>\n",
              "    .dataframe tbody tr th:only-of-type {\n",
              "        vertical-align: middle;\n",
              "    }\n",
              "\n",
              "    .dataframe tbody tr th {\n",
              "        vertical-align: top;\n",
              "    }\n",
              "\n",
              "    .dataframe thead th {\n",
              "        text-align: right;\n",
              "    }\n",
              "</style>\n",
              "<table border=\"1\" class=\"dataframe\">\n",
              "  <thead>\n",
              "    <tr style=\"text-align: right;\">\n",
              "      <th></th>\n",
              "      <th>Year</th>\n",
              "      <th>SpringWheat</th>\n",
              "    </tr>\n",
              "  </thead>\n",
              "  <tbody>\n",
              "    <tr>\n",
              "      <th>0</th>\n",
              "      <td>2021</td>\n",
              "      <td>30.216725</td>\n",
              "    </tr>\n",
              "    <tr>\n",
              "      <th>1</th>\n",
              "      <td>2012</td>\n",
              "      <td>34.831633</td>\n",
              "    </tr>\n",
              "    <tr>\n",
              "      <th>2</th>\n",
              "      <td>2015</td>\n",
              "      <td>37.016599</td>\n",
              "    </tr>\n",
              "  </tbody>\n",
              "</table>\n",
              "</div>"
            ],
            "text/plain": [
              "   Year  SpringWheat\n",
              "0  2021    30.216725\n",
              "1  2012    34.831633\n",
              "2  2015    37.016599"
            ]
          },
          "execution_count": 10,
          "metadata": {},
          "output_type": "execute_result"
        }
      ],
      "source": [
        "# 5. Use groupby() function and find worst 3 years in terms of average Spring Wheat through 10 years.\n",
        "\n",
        "## Your code here - down ##\n",
        "\n",
        "df.groupby('Year')['SpringWheat'].mean()\\\n",
        "    .sort_values().reset_index().head(3)\n",
        "\n",
        "## Your code here - up ##"
      ]
    },
    {
      "cell_type": "markdown",
      "metadata": {
        "id": "jmsH1mGWpu3L"
      },
      "source": [
        "## Question 3 (10 points)"
      ]
    },
    {
      "cell_type": "markdown",
      "metadata": {
        "id": "U6OG5ANHp39Y"
      },
      "source": [
        "This task is independent exploratory data analysis. Find key insights from the dataset and share your code by creating new cells."
      ]
    },
    {
      "attachments": {},
      "cell_type": "markdown",
      "metadata": {},
      "source": [
        "Below graphs are showing relation between RM vs Yield and Yield per year for different crops. With the help of these illustration, we can quickly see the trend in the past years\n"
      ]
    },
    {
      "cell_type": "code",
      "execution_count": 18,
      "metadata": {},
      "outputs": [
        {
          "data": {
            "text/plain": [
              "<AxesSubplot: xlabel='RM'>"
            ]
          },
          "execution_count": 18,
          "metadata": {},
          "output_type": "execute_result"
        },
        {
          "data": {
            "image/png": "[encoded data removed]",
            "text/plain": [
              "<Figure size 640x480 with 1 Axes>"
            ]
          },
          "metadata": {},
          "output_type": "display_data"
        }
      ],
      "source": [
        "df.groupby('RM')['Canola'].mean()\\\n",
        "    .sort_values(ascending = False).head(10)\\\n",
        "        .plot(kind='bar')\n",
        "        "
      ]
    },
    {
      "cell_type": "code",
      "execution_count": 21,
      "metadata": {},
      "outputs": [
        {
          "name": "stderr",
          "output_type": "stream",
          "text": [
            "C:\\Users\\muhammad.faisal\\AppData\\Local\\Temp\\ipykernel_16836\\380229834.py:5: MatplotlibDeprecationWarning: The seaborn styles shipped by Matplotlib are deprecated since 3.6, as they no longer correspond to the styles shipped by seaborn. However, they will remain available as 'seaborn-v0_8-<style>'. Alternatively, directly use the seaborn API instead.\n",
            "  plt.style.use('seaborn-whitegrid')\n"
          ]
        },
        {
          "data": {
            "image/png": "[encoded data removed]",
            "text/plain": [
              "<Figure size 640x480 with 1 Axes>"
            ]
          },
          "metadata": {},
          "output_type": "display_data"
        }
      ],
      "source": [
        "df.groupby('Year')['Canola'].mean()\\\n",
        "    .sort_values(ascending = False).head(10)\\\n",
        "        .plot(kind='bar')\n",
        "        \n",
        "plt.style.use('seaborn-whitegrid')"
      ]
    },
    {
      "cell_type": "code",
      "execution_count": 28,
      "metadata": {},
      "outputs": [
        {
          "data": {
            "image/png": "[encoded data removed]",
            "text/plain": [
              "<Figure size 2000x1000 with 1 Axes>"
            ]
          },
          "metadata": {},
          "output_type": "display_data"
        }
      ],
      "source": [
        "df.groupby('Year')['SpringWheat'].mean()\\\n",
        "    .sort_values()\\\n",
        "        .plot(\n",
        "            kind='barh', \n",
        "            figsize=(20,10),\n",
        "            color='skyblue')\n",
        "plt.title(\n",
        "    'Yield by Year', \n",
        "    size=18,\n",
        "    color='blue')\n",
        "plt.xlabel(\n",
        "    'Yield',\n",
        "    color='blue',\n",
        "    size=16)\n",
        "plt.ylabel(\n",
        "    'Year',\n",
        "    color='blue',\n",
        "    size=16)\n",
        "plt.legend()\n",
        "plt.show()"
      ]
    }
  ],
  "metadata": {
    "colab": {
      "provenance": []
    },
    "kernelspec": {
      "display_name": "Python 3",
      "language": "python",
      "name": "python3"
    },
    "language_info": {
      "codemirror_mode": {
        "name": "ipython",
        "version": 3
      },
      "file_extension": ".py",
      "mimetype": "text/x-python",
      "name": "python",
      "nbconvert_exporter": "python",
      "pygments_lexer": "ipython3",
      "version": "3.11.1"
    },
    "vscode": {
      "interpreter": {
        "hash": "cd2c7ba7eaf314106a4c4bec14bd65edde4dabad275638485929b319e57a1e4b"
      }
    }
  },
  "nbformat": 4,
  "nbformat_minor": 0
}
